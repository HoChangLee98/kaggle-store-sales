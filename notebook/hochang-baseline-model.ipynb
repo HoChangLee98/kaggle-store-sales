{
 "cells": [
  {
   "cell_type": "code",
   "execution_count": 1,
   "metadata": {},
   "outputs": [],
   "source": [
    "import sys\n",
    "sys.path.append(\"../src\")\n",
    "\n",
    "from dataloader import *"
   ]
  },
  {
   "cell_type": "code",
   "execution_count": 2,
   "metadata": {},
   "outputs": [
    {
     "name": "stdout",
     "output_type": "stream",
     "text": [
      "Loading label encoder\n"
     ]
    }
   ],
   "source": [
    "dataloader = DataLoader()\n",
    "train_set, eval_set, test = dataloader.run()\n",
    "\n",
    "preprocessor = PreProcess(X_tr=train_set[\"X\"])\n",
    "train_set[\"X\"] = preprocessor.transform(X=train_set[\"X\"])\n",
    "eval_set[\"X\"] = preprocessor.transform(X=eval_set[\"X\"])\n",
    "test = preprocessor.transform(X=test)"
   ]
  },
  {
   "cell_type": "code",
   "execution_count": 3,
   "metadata": {},
   "outputs": [],
   "source": [
    "cat_features = list(train_set[\"X\"].dtypes[train_set[\"X\"].dtypes == \"category\"].keys())"
   ]
  },
  {
   "cell_type": "code",
   "execution_count": 4,
   "metadata": {},
   "outputs": [],
   "source": [
    "import numpy as np\n",
    "from catboost import CatBoostRegressor\n",
    "from sklearn.metrics import mean_squared_log_error"
   ]
  },
  {
   "cell_type": "code",
   "execution_count": 5,
   "metadata": {},
   "outputs": [],
   "source": [
    "class RmsleObjective(object):\n",
    "    def calc_ders_range(self, approxes, targets, weights):\n",
    "        assert len(approxes) == len(targets)\n",
    "        if weights is not None:\n",
    "            assert len(weights) == len(approxes)\n",
    "\n",
    "        result = []\n",
    "        for index in range(len(targets)):\n",
    "            der1 = np.log1p(approxes[index]) - np.log1p(targets[index])\n",
    "            der2 = -1\n",
    "\n",
    "            if weights is not None:\n",
    "                der1 *= weights[index]\n",
    "                der2 *= weights[index]\n",
    "\n",
    "            result.append((der1, der2))\n",
    "        return result\n",
    "    \n",
    "class RmsleMetric(object):\n",
    "    def get_final_error(self, error, weight):\n",
    "        return np.sqrt(error / (weight + 1e-38))\n",
    "\n",
    "    def is_max_optimal(self):\n",
    "        return False\n",
    "\n",
    "    def evaluate(self, approxes, target, weight):\n",
    "        assert len(approxes) == 1\n",
    "        assert len(target) == len(approxes[0])\n",
    "\n",
    "        approx = approxes[0]\n",
    "\n",
    "        error_sum = 0.0\n",
    "        weight_sum = 0.0\n",
    "\n",
    "        for i in range(len(approx)):\n",
    "            w = 1.0 if weight is None else weight[i]\n",
    "            weight_sum += w\n",
    "            error_sum += w * ((approx[i] - target[i])**2)\n",
    "\n",
    "        return error_sum, weight_sum\n"
   ]
  },
  {
   "cell_type": "markdown",
   "metadata": {},
   "source": [
    "* baseline_version_1  \n",
    "    \"loss_function\" : \"RMSE\",  \n",
    "    \"eval_metric\" : RmsleMetric(),   \n",
    "    \"iterations\" : 1000,   \n",
    "    \"learning_rate\" : 0.01,   \n",
    "    \"depth\" : 4,  \n",
    "    \"random_seed\" : 0  \n"
   ]
  },
  {
   "cell_type": "code",
   "execution_count": 7,
   "metadata": {},
   "outputs": [
    {
     "data": {
      "application/vnd.jupyter.widget-view+json": {
       "model_id": "16bf3e5ac776403182b36b4b13f51e15",
       "version_major": 2,
       "version_minor": 0
      },
      "text/plain": [
       "MetricVisualizer(layout=Layout(align_self='stretch', height='500px'))"
      ]
     },
     "metadata": {},
     "output_type": "display_data"
    },
    {
     "name": "stdout",
     "output_type": "stream",
     "text": [
      "Baseline Model Evaluation Set RMSLE :  2.133876046831082\n"
     ]
    }
   ],
   "source": [
    "tune_parameters = {\n",
    "    \"loss_function\" : \"RMSE\",\n",
    "    \"eval_metric\" : RmsleMetric(), \n",
    "    \"iterations\" : 1000, \n",
    "    \"learning_rate\" : 0.01, \n",
    "    \"depth\" : 4, \n",
    "    # \"l2_leaf_reg\" : 64, \n",
    "    \"random_seed\" : 0\n",
    "}\n",
    "\n",
    "parameters = {\n",
    "    \"cat_features\" : cat_features, \n",
    "    \"eval_set\" : (eval_set[\"X\"], eval_set[\"y\"]), \n",
    "    \"verbose\" : False, \n",
    "    \"plot\" : True, \n",
    "    \"early_stopping_rounds\" : 100\n",
    "    }\n",
    "\n",
    "model = CatBoostRegressor(**tune_parameters)\n",
    "model.fit(X=train_set[\"X\"], \n",
    "          y=train_set[\"y\"], \n",
    "          **parameters)\n",
    "y_val_pred = model.predict(eval_set[\"X\"])\n",
    "y_val_pred[y_val_pred < 0] = 0\n",
    "print(\"Baseline Model Evaluation Set RMSLE : \", mean_squared_log_error(y_true=eval_set[\"y\"], y_pred=y_val_pred))"
   ]
  },
  {
   "cell_type": "code",
   "execution_count": 8,
   "metadata": {},
   "outputs": [],
   "source": [
    "y_pred = model.predict(test)\n",
    "y_pred[y_pred < 0] = 0"
   ]
  },
  {
   "cell_type": "code",
   "execution_count": 9,
   "metadata": {},
   "outputs": [],
   "source": [
    "baseline_model_submission = pd.read_csv(\"../submit/sample_submission.csv\")\n",
    "baseline_model_submission[\"sales\"] = y_pred"
   ]
  },
  {
   "cell_type": "code",
   "execution_count": 10,
   "metadata": {},
   "outputs": [
    {
     "data": {
      "text/html": [
       "<div>\n",
       "<style scoped>\n",
       "    .dataframe tbody tr th:only-of-type {\n",
       "        vertical-align: middle;\n",
       "    }\n",
       "\n",
       "    .dataframe tbody tr th {\n",
       "        vertical-align: top;\n",
       "    }\n",
       "\n",
       "    .dataframe thead th {\n",
       "        text-align: right;\n",
       "    }\n",
       "</style>\n",
       "<table border=\"1\" class=\"dataframe\">\n",
       "  <thead>\n",
       "    <tr style=\"text-align: right;\">\n",
       "      <th></th>\n",
       "      <th>id</th>\n",
       "      <th>sales</th>\n",
       "    </tr>\n",
       "  </thead>\n",
       "  <tbody>\n",
       "    <tr>\n",
       "      <th>0</th>\n",
       "      <td>3000888</td>\n",
       "      <td>2.941821</td>\n",
       "    </tr>\n",
       "    <tr>\n",
       "      <th>1</th>\n",
       "      <td>3000889</td>\n",
       "      <td>1.101738</td>\n",
       "    </tr>\n",
       "    <tr>\n",
       "      <th>2</th>\n",
       "      <td>3000890</td>\n",
       "      <td>59.194227</td>\n",
       "    </tr>\n",
       "    <tr>\n",
       "      <th>3</th>\n",
       "      <td>3000891</td>\n",
       "      <td>2264.622037</td>\n",
       "    </tr>\n",
       "    <tr>\n",
       "      <th>4</th>\n",
       "      <td>3000892</td>\n",
       "      <td>1.101738</td>\n",
       "    </tr>\n",
       "    <tr>\n",
       "      <th>...</th>\n",
       "      <td>...</td>\n",
       "      <td>...</td>\n",
       "    </tr>\n",
       "    <tr>\n",
       "      <th>28507</th>\n",
       "      <td>3029395</td>\n",
       "      <td>259.196020</td>\n",
       "    </tr>\n",
       "    <tr>\n",
       "      <th>28508</th>\n",
       "      <td>3029396</td>\n",
       "      <td>239.691965</td>\n",
       "    </tr>\n",
       "    <tr>\n",
       "      <th>28509</th>\n",
       "      <td>3029397</td>\n",
       "      <td>1570.496903</td>\n",
       "    </tr>\n",
       "    <tr>\n",
       "      <th>28510</th>\n",
       "      <td>3029398</td>\n",
       "      <td>71.816507</td>\n",
       "    </tr>\n",
       "    <tr>\n",
       "      <th>28511</th>\n",
       "      <td>3029399</td>\n",
       "      <td>7.414028</td>\n",
       "    </tr>\n",
       "  </tbody>\n",
       "</table>\n",
       "<p>28512 rows × 2 columns</p>\n",
       "</div>"
      ],
      "text/plain": [
       "            id        sales\n",
       "0      3000888     2.941821\n",
       "1      3000889     1.101738\n",
       "2      3000890    59.194227\n",
       "3      3000891  2264.622037\n",
       "4      3000892     1.101738\n",
       "...        ...          ...\n",
       "28507  3029395   259.196020\n",
       "28508  3029396   239.691965\n",
       "28509  3029397  1570.496903\n",
       "28510  3029398    71.816507\n",
       "28511  3029399     7.414028\n",
       "\n",
       "[28512 rows x 2 columns]"
      ]
     },
     "execution_count": 10,
     "metadata": {},
     "output_type": "execute_result"
    }
   ],
   "source": [
    "baseline_model_submission"
   ]
  },
  {
   "cell_type": "code",
   "execution_count": 11,
   "metadata": {},
   "outputs": [],
   "source": [
    "baseline_model_submission.to_csv(\"../submit/baseline_model_iter1000.csv\", index=False)"
   ]
  }
 ],
 "metadata": {
  "kernelspec": {
   "display_name": "store-sales",
   "language": "python",
   "name": "python3"
  },
  "language_info": {
   "codemirror_mode": {
    "name": "ipython",
    "version": 3
   },
   "file_extension": ".py",
   "mimetype": "text/x-python",
   "name": "python",
   "nbconvert_exporter": "python",
   "pygments_lexer": "ipython3",
   "version": "3.9.17"
  }
 },
 "nbformat": 4,
 "nbformat_minor": 2
}
